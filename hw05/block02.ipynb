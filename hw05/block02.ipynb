{
 "cells": [
  {
   "cell_type": "code",
   "execution_count": 2,
   "id": "085404d8-1cd2-48a4-aabf-a82b90063ff2",
   "metadata": {},
   "outputs": [],
   "source": [
    "from collections import defaultdict\n",
    "import pyspark\n",
    "from pyspark.sql import SparkSession\n",
    "import pyspark.pandas as ps\n",
    "from pyspark.sql.functions import split, col\n",
    "from pyspark.ml.feature import HashingTF, IDF, Tokenizer\n",
    "from pyspark.ml.classification import LogisticRegression\n",
    "from pyspark.sql.types import IntegerType, FloatType\n",
    "from pyspark.ml.evaluation import BinaryClassificationEvaluator\n",
    "from pyspark.mllib.evaluation import BinaryClassificationMetrics\n",
    "import matplotlib.pyplot as plt\n",
    "from pyspark.ml.feature import Word2Vec\n",
    "\n",
    "sc = (\n",
    "    SparkSession\n",
    "    .builder\n",
    "    .master(\"local[2]\")\n",
    "    .appName(\"hw05\")\n",
    "    .getOrCreate()\n",
    ")\n"
   ]
  },
  {
   "cell_type": "code",
   "execution_count": 13,
   "id": "a5d450a9-1778-462c-a52e-5bdfb105142a",
   "metadata": {},
   "outputs": [],
   "source": [
    "dtrain = (\n",
    "    sc\n",
    "    .read\n",
    "    .format(\"csv\")\n",
    "    .option(\"header\",True)\n",
    "    .option(\"quote\", \"\\\"\")\n",
    "    .option(\"escape\", \"\\\"\")\n",
    "    .option(\"multiline\", True)\n",
    "    .load(\"file:///home/jovyan/work/train.csv\")\n",
    "    .withColumn(\"toxic\",col(\"toxic\").cast(\"integer\"))\n",
    "    .withColumn(\"severe_toxic\",col(\"severe_toxic\").cast(\"integer\"))\n",
    "    .withColumn(\"obscene\",col(\"obscene\").cast(\"integer\"))\n",
    "    .withColumn(\"threat\",col(\"threat\").cast(\"integer\"))\n",
    "    .withColumn(\"insult\",col(\"insult\").cast(\"integer\"))\n",
    "    .withColumn(\"identity_hate\",col(\"identity_hate\").cast(\"integer\"))\n",
    ")\n",
    "\n",
    "\n",
    "dtest = (\n",
    "    sc\n",
    "    .read\n",
    "    .format(\"csv\")\n",
    "    .option(\"header\",True)\n",
    "    .option(\"quote\", \"\\\"\")\n",
    "    .option(\"escape\", \"\\\"\")\n",
    "    .option(\"multiline\", True)\n",
    "    .load(\"file:///home/jovyan/work/test.csv\")\n",
    "    # .withColumn(\"toxic\",col(\"toxic\").cast(\"integer\"))\n",
    "    # .withColumn(\"severe_toxic\",col(\"severe_toxic\").cast(\"integer\"))\n",
    "    # .withColumn(\"obscene\",col(\"obscene\").cast(\"integer\"))\n",
    "    # .withColumn(\"threat\",col(\"threat\").cast(\"integer\"))\n",
    "    # .withColumn(\"insult\",col(\"insult\").cast(\"integer\"))\n",
    "    # .withColumn(\"identity_hate\",col(\"identity_hate\").cast(\"integer\"))\n",
    ")\n",
    "\n",
    "dlabels = (\n",
    "    sc\n",
    "    .read\n",
    "    .format(\"csv\")\n",
    "    .option(\"header\",True)\n",
    "    .load(\"file:///home/jovyan/work/test_labels.csv\")\n",
    "    .withColumn(\"toxic\",col(\"toxic\").cast(\"integer\"))\n",
    "    .withColumn(\"severe_toxic\",col(\"severe_toxic\").cast(\"integer\"))\n",
    "    .withColumn(\"obscene\",col(\"obscene\").cast(\"integer\"))\n",
    "    .withColumn(\"threat\",col(\"threat\").cast(\"integer\"))\n",
    "    .withColumn(\"insult\",col(\"insult\").cast(\"integer\"))\n",
    "    .withColumn(\"identity_hate\",col(\"identity_hate\").cast(\"integer\"))\n",
    ")\n",
    "\n",
    "dtest = dtest.join(dlabels, \"id\")\n",
    "\n",
    "tokenizer = Tokenizer(inputCol=\"comment_text\", outputCol=\"comment_words\")\n",
    "dtrain = tokenizer.transform(dtrain)\n",
    "dtest = tokenizer.transform(dtest)\n",
    "\n",
    "\n",
    "targets = [\n",
    "    'toxic', 'severe_toxic', 'obscene',\n",
    "    'threat', 'insult', 'identity_hate',\n",
    "]"
   ]
  },
  {
   "cell_type": "markdown",
   "id": "ed11586b-b7a6-4c4d-96ff-329ebde255a9",
   "metadata": {},
   "source": [
    "## Подготовить фичи комментариев с помощью w2v\n"
   ]
  },
  {
   "cell_type": "code",
   "execution_count": null,
   "id": "5c48ca04-46fa-4c4e-8e2c-2cdedec5adb3",
   "metadata": {},
   "outputs": [],
   "source": [
    "\n",
    "word2Vec = Word2Vec(\n",
    "    vectorSize=5, \n",
    "    seed=42, \n",
    "    inputCol=\"comment_words\", \n",
    "    outputCol=\"model\"\n",
    ")\n",
    "model = word2Vec.fit(dtrain)\n"
   ]
  },
  {
   "cell_type": "code",
   "execution_count": 16,
   "id": "262d2e11-ed9e-4eef-ac32-a38739c95be8",
   "metadata": {},
   "outputs": [],
   "source": [
    "dtrain2 = model.transform(dtrain)"
   ]
  },
  {
   "cell_type": "code",
   "execution_count": 14,
   "id": "ce36a227-02fd-45f7-928c-242e753dbe2e",
   "metadata": {},
   "outputs": [],
   "source": [
    "dtest2 = model.transform(dtest)"
   ]
  },
  {
   "cell_type": "code",
   "execution_count": 15,
   "id": "27f30314-7d42-463b-a906-d285ddff83d2",
   "metadata": {},
   "outputs": [
    {
     "data": {
      "text/plain": [
       "DataFrame[id: string, comment_text: string, toxic: int, severe_toxic: int, obscene: int, threat: int, insult: int, identity_hate: int, comment_words: array<string>, model: vector]"
      ]
     },
     "execution_count": 15,
     "metadata": {},
     "output_type": "execute_result"
    }
   ],
   "source": [
    "dtest2"
   ]
  },
  {
   "cell_type": "markdown",
   "id": "8e9a5ca2-faee-49d4-91bd-ea5b20e08d5a",
   "metadata": {},
   "source": [
    "## Обучить линейный классификатор "
   ]
  },
  {
   "cell_type": "code",
   "execution_count": 23,
   "id": "48d923d0-ddf0-41e9-ab28-1e356fc79311",
   "metadata": {},
   "outputs": [],
   "source": [
    "metrics  = dict()\n",
    "\n",
    "# target = \"toxic\"\n",
    "for target in targets:\n",
    "    lr = LogisticRegression(labelCol=target).setFeaturesCol(\"model\")\n",
    "    lrn = lr.fit(dtrain2)\n",
    "    dtest3 = dtest2[dtest2[target]!=-1]\n",
    "    dtest3 = lrn.transform(dtest3)\n",
    "    bce = BinaryClassificationEvaluator(labelCol=target)\n",
    "    auroc = bce.evaluate(dtest3)\n",
    "    metrics[target] = auroc"
   ]
  },
  {
   "cell_type": "code",
   "execution_count": 24,
   "id": "59400deb-5823-44e7-aea1-2751e047f3f1",
   "metadata": {},
   "outputs": [
    {
     "data": {
      "text/plain": [
       "{'toxic': 0.8658867165268348,\n",
       " 'severe_toxic': 0.9444494395152192,\n",
       " 'obscene': 0.8882706371959597,\n",
       " 'threat': 0.8663699530510836,\n",
       " 'insult': 0.883996424875139,\n",
       " 'identity_hate': 0.8987469128917804}"
      ]
     },
     "execution_count": 24,
     "metadata": {},
     "output_type": "execute_result"
    }
   ],
   "source": [
    "metrics"
   ]
  },
  {
   "cell_type": "markdown",
   "id": "76955d63-3d12-4777-a43f-0e0c2c65ebc1",
   "metadata": {},
   "source": [
    "# Выводы\n",
    "Признаки w2v дают более высокую метрику качества ROCAUC по сравлению с TF-IDF из блока 1. При этом w2v требует меньше времени для обучения.\n",
    "\n",
    "|target       |tf-idf|w2v  |\n",
    "|-------------|------|-----|\n",
    "|toxic        |0.790 |0.865|\n",
    "|severe_toxic |0.841 |0.944|\n",
    "|obscene      |0.820 |0.888|\n",
    "|threat       |0.866 |0.866|\n",
    "|insult       |0.816 |0.883|\n",
    "|identity_hate|0.776 |0.899|"
   ]
  },
  {
   "cell_type": "code",
   "execution_count": null,
   "id": "ba2f484b-2283-4a17-8ede-813f8f5c9cff",
   "metadata": {},
   "outputs": [],
   "source": []
  },
  {
   "cell_type": "code",
   "execution_count": null,
   "id": "ba8ad584-17d2-41e1-b018-d5301812e332",
   "metadata": {},
   "outputs": [],
   "source": []
  }
 ],
 "metadata": {
  "kernelspec": {
   "display_name": "Python 3 (ipykernel)",
   "language": "python",
   "name": "python3"
  },
  "language_info": {
   "codemirror_mode": {
    "name": "ipython",
    "version": 3
   },
   "file_extension": ".py",
   "mimetype": "text/x-python",
   "name": "python",
   "nbconvert_exporter": "python",
   "pygments_lexer": "ipython3",
   "version": "3.10.8"
  }
 },
 "nbformat": 4,
 "nbformat_minor": 5
}
