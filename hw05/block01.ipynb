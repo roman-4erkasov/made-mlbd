{
 "cells": [
  {
   "cell_type": "code",
   "execution_count": 1,
   "id": "7f759604-4833-4c32-98af-36c18699e768",
   "metadata": {},
   "outputs": [],
   "source": [
    "import pyspark"
   ]
  },
  {
   "cell_type": "code",
   "execution_count": 2,
   "id": "31fd7f0e-6f37-46e5-ad01-88d849ffedaf",
   "metadata": {},
   "outputs": [],
   "source": [
    "from pyspark.sql import SparkSession"
   ]
  },
  {
   "cell_type": "code",
   "execution_count": 3,
   "id": "fa6ca607-e576-4d50-90c1-ff629f62d06b",
   "metadata": {},
   "outputs": [],
   "source": [
    "sc = (\n",
    "    SparkSession\n",
    "    .builder\n",
    "    .master(\"local[2]\")\n",
    "    .appName(\"hw05\")\n",
    "    .getOrCreate()\n",
    ")\n"
   ]
  },
  {
   "cell_type": "code",
   "execution_count": 4,
   "id": "ba0eaae4-f8d2-4aa7-a190-ced95f1883a7",
   "metadata": {},
   "outputs": [],
   "source": [
    "df = sc.read.format(\"csv\").load(\"file:///home/jovyan/work/train.csv\")\n"
   ]
  },
  {
   "cell_type": "code",
   "execution_count": 5,
   "id": "80ba40e3-1856-4bce-bb4d-483281d2bd9b",
   "metadata": {},
   "outputs": [
    {
     "name": "stdout",
     "output_type": "stream",
     "text": [
      "+--------------------+--------------------+--------------------+------------+-------+------+------+-------------+\n",
      "|                 _c0|                 _c1|                 _c2|         _c3|    _c4|   _c5|   _c6|          _c7|\n",
      "+--------------------+--------------------+--------------------+------------+-------+------+------+-------------+\n",
      "|                  id|        comment_text|               toxic|severe_toxic|obscene|threat|insult|identity_hate|\n",
      "|    0000997932d777bf|         Explanation|                null|        null|   null|  null|  null|         null|\n",
      "|Why the edits mad...| just closure on ...|                   0|           0|      0|     0|     0|            0|\n",
      "|    000103f0d9cfb60f|D'aww! He matches...|                   0|           0|      0|     0|     0|            0|\n",
      "|    000113f07ec002fd|Hey man, I'm real...|                   0|           0|      0|     0|     0|            0|\n",
      "|    0001b41b1c6bb37e|                   \"|                null|        null|   null|  null|  null|         null|\n",
      "|                More|                null|                null|        null|   null|  null|  null|         null|\n",
      "|I can't make any ...| or a subsection ...| if no-one else d...|        null|   null|  null|  null|         null|\n",
      "|There appears to ...|                   0|                   0|           0|      0|     0|     0|         null|\n",
      "|    0001d958c54c6e35|You, sir, are my ...|                   0|           0|      0|     0|     0|            0|\n",
      "+--------------------+--------------------+--------------------+------------+-------+------+------+-------------+\n",
      "only showing top 10 rows\n",
      "\n"
     ]
    }
   ],
   "source": [
    "df.show(10)"
   ]
  },
  {
   "cell_type": "code",
   "execution_count": null,
   "id": "802cecef-cabf-45fc-a264-d203a14d9962",
   "metadata": {},
   "outputs": [],
   "source": []
  }
 ],
 "metadata": {
  "kernelspec": {
   "display_name": "Python 3 (ipykernel)",
   "language": "python",
   "name": "python3"
  },
  "language_info": {
   "codemirror_mode": {
    "name": "ipython",
    "version": 3
   },
   "file_extension": ".py",
   "mimetype": "text/x-python",
   "name": "python",
   "nbconvert_exporter": "python",
   "pygments_lexer": "ipython3",
   "version": "3.10.8"
  }
 },
 "nbformat": 4,
 "nbformat_minor": 5
}
